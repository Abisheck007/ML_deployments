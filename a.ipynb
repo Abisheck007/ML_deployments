{
 "cells": [
  {
   "cell_type": "code",
   "execution_count": 8,
   "id": "8d88382d",
   "metadata": {},
   "outputs": [
    {
     "name": "stdout",
     "output_type": "stream",
     "text": [
      "   ENGINESIZE  CYLINDERS  FUELCONSUMPTION_CITY  FUELCONSUMPTION_HWY  \\\n",
      "0         2.0          4                   9.9                  6.7   \n",
      "1         2.4          4                  11.2                  7.7   \n",
      "2         1.5          4                   6.0                  5.8   \n",
      "3         3.5          6                  12.7                  9.1   \n",
      "4         3.5          6                  12.1                  8.7   \n",
      "\n",
      "   FUELCONSUMPTION_COMB  CO2EMISSIONS  \n",
      "0                   8.5           196  \n",
      "1                   9.6           221  \n",
      "2                   5.9           136  \n",
      "3                  11.1           255  \n",
      "4                  10.6           244  \n"
     ]
    }
   ],
   "source": [
    "import pandas as pd\n",
    "from sklearn.model_selection import train_test_split\n",
    "from sklearn.linear_model import LinearRegression\n",
    "from sklearn.metrics import r2_score, mean_absolute_error\n",
    "# Load dataset\n",
    "df = pd.read_csv(\"Co2_Emission.csv\")\n",
    "\n",
    "# Select only useful columns\n",
    "df = df[[\n",
    "    \"Engine Size(L)\", \n",
    "    \"Cylinders\", \n",
    "    \"Fuel Consumption City (L/100 km)\", \n",
    "    \"Fuel Consumption Hwy (L/100 km)\", \n",
    "    \"Fuel Consumption Comb (L/100 km)\", \n",
    "    \"CO2 Emissions(g/km)\"\n",
    "]]\n",
    "\n",
    "# Rename columns to simpler names\n",
    "df = df.rename(columns={\n",
    "    \"Engine Size(L)\": \"ENGINESIZE\",\n",
    "    \"Cylinders\": \"CYLINDERS\",\n",
    "    \"Fuel Consumption City (L/100 km)\": \"FUELCONSUMPTION_CITY\",\n",
    "    \"Fuel Consumption Hwy (L/100 km)\": \"FUELCONSUMPTION_HWY\",\n",
    "    \"Fuel Consumption Comb (L/100 km)\": \"FUELCONSUMPTION_COMB\",\n",
    "    \"CO2 Emissions(g/km)\": \"CO2EMISSIONS\"\n",
    "})\n",
    "\n",
    "print(df.head())\n"
   ]
  },
  {
   "cell_type": "code",
   "execution_count": 10,
   "id": "173cc8e0",
   "metadata": {},
   "outputs": [
    {
     "name": "stdout",
     "output_type": "stream",
     "text": [
      "R² Score: 0.8773348735033226\n",
      "MAE: 13.517321294682647\n"
     ]
    },
    {
     "data": {
      "text/plain": [
       "['co2_model.pkl']"
      ]
     },
     "execution_count": 10,
     "metadata": {},
     "output_type": "execute_result"
    }
   ],
   "source": [
    "import pandas as pd\n",
    "from sklearn.model_selection import train_test_split\n",
    "from sklearn.linear_model import LinearRegression\n",
    "from sklearn.metrics import r2_score, mean_absolute_error\n",
    "\n",
    "# Load dataset\n",
    "df = pd.read_csv(\"Co2_Emission.csv\")\n",
    "\n",
    "# Select features + target\n",
    "df = df[[\n",
    "    \"Engine Size(L)\", \n",
    "    \"Cylinders\", \n",
    "    \"Fuel Consumption City (L/100 km)\", \n",
    "    \"Fuel Consumption Hwy (L/100 km)\", \n",
    "    \"Fuel Consumption Comb (L/100 km)\", \n",
    "    \"CO2 Emissions(g/km)\"\n",
    "]]\n",
    "\n",
    "# Rename for simplicity\n",
    "df = df.rename(columns={\n",
    "    \"Engine Size(L)\": \"ENGINESIZE\",\n",
    "    \"Cylinders\": \"CYLINDERS\",\n",
    "    \"Fuel Consumption City (L/100 km)\": \"FUELCONSUMPTION_CITY\",\n",
    "    \"Fuel Consumption Hwy (L/100 km)\": \"FUELCONSUMPTION_HWY\",\n",
    "    \"Fuel Consumption Comb (L/100 km)\": \"FUELCONSUMPTION_COMB\",\n",
    "    \"CO2 Emissions(g/km)\": \"CO2EMISSIONS\"\n",
    "})\n",
    "\n",
    "# Split features/target\n",
    "X = df[[\"ENGINESIZE\", \"CYLINDERS\", \"FUELCONSUMPTION_COMB\"]]\n",
    "y = df[\"CO2EMISSIONS\"]\n",
    "\n",
    "# Train-test split\n",
    "X_train, X_test, y_train, y_test = train_test_split(X, y, test_size=0.2, random_state=42)\n",
    "\n",
    "# Train model\n",
    "model = LinearRegression()\n",
    "model.fit(X_train, y_train)\n",
    "\n",
    "# Evaluate\n",
    "y_pred = model.predict(X_test)\n",
    "print(\"R² Score:\", r2_score(y_test, y_pred))\n",
    "print(\"MAE:\", mean_absolute_error(y_test, y_pred))\n",
    "\n",
    "# Save model (for Streamlit)\n",
    "import joblib\n",
    "joblib.dump(model, \"co2_model.pkl\")\n"
   ]
  }
 ],
 "metadata": {
  "kernelspec": {
   "display_name": "base",
   "language": "python",
   "name": "python3"
  },
  "language_info": {
   "codemirror_mode": {
    "name": "ipython",
    "version": 3
   },
   "file_extension": ".py",
   "mimetype": "text/x-python",
   "name": "python",
   "nbconvert_exporter": "python",
   "pygments_lexer": "ipython3",
   "version": "3.11.7"
  }
 },
 "nbformat": 4,
 "nbformat_minor": 5
}
